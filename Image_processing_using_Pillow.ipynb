{
  "nbformat": 4,
  "nbformat_minor": 0,
  "metadata": {
    "colab": {
      "name": "Image-processing-using-Pillow.ipynb",
      "provenance": [],
      "mount_file_id": "122RNnMX08FXji8tL_kTrSCgZm0MsNTVQ",
      "authorship_tag": "ABX9TyOWMh5UsssAbyvPg9LYNvvH",
      "include_colab_link": true
    },
    "kernelspec": {
      "name": "python3",
      "display_name": "Python 3"
    },
    "language_info": {
      "name": "python"
    }
  },
  "cells": [
    {
      "cell_type": "markdown",
      "metadata": {
        "id": "view-in-github",
        "colab_type": "text"
      },
      "source": [
        "<a href=\"https://colab.research.google.com/github/BlitzenPrancer/Image-processing-using-Pillow/blob/main/Image_processing_using_Pillow.ipynb\" target=\"_parent\"><img src=\"https://colab.research.google.com/assets/colab-badge.svg\" alt=\"Open In Colab\"/></a>"
      ]
    },
    {
      "cell_type": "markdown",
      "metadata": {
        "id": "7Wwj8hwVZZCV"
      },
      "source": [
        "# Loading Image"
      ]
    },
    {
      "cell_type": "code",
      "metadata": {
        "id": "D6gyKJvCZdIs"
      },
      "source": [
        "image_x = \"/content/drive/MyDrive/dataset/img/x.png\"\n",
        "image_o = \"/content/drive/MyDrive/dataset/img/o.png\""
      ],
      "execution_count": 3,
      "outputs": []
    },
    {
      "cell_type": "code",
      "metadata": {
        "id": "m-nPz07wZw7k"
      },
      "source": [
        "from PIL import Image, ImageChops, ImageFilter\n",
        "from matplotlib import pyplot as plt\n",
        "\n",
        "#Creating a PIL Image objects\n",
        "x = Image.open(image_x)\n",
        "o = Image.open(image_o)"
      ],
      "execution_count": 5,
      "outputs": []
    },
    {
      "cell_type": "code",
      "metadata": {
        "colab": {
          "base_uri": "https://localhost:8080/"
        },
        "id": "m1x8Lsacgu5i",
        "outputId": "53f4b3d0-d5e9-4177-9225-108bcea5d77a"
      },
      "source": [
        "#Finding out attributes of Image Objects\n",
        "print('size of the image: ', x.size, ' colour mode:', x.mode)\n",
        "print('size of the image: ', o.size, ' colour mode:', o.mode)"
      ],
      "execution_count": 6,
      "outputs": [
        {
          "output_type": "stream",
          "name": "stdout",
          "text": [
            "size of the image:  (256, 256)  colour mode: RGB\n",
            "size of the image:  (256, 256)  colour mode: RGB\n"
          ]
        }
      ]
    }
  ]
}