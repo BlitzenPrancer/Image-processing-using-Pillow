{
  "nbformat": 4,
  "nbformat_minor": 0,
  "metadata": {
    "colab": {
      "name": "Image-processing-using-Pillow.ipynb",
      "provenance": [],
      "mount_file_id": "122RNnMX08FXji8tL_kTrSCgZm0MsNTVQ",
      "authorship_tag": "ABX9TyPU4FVzFoL/ikdxyREUraSf",
      "include_colab_link": true
    },
    "kernelspec": {
      "name": "python3",
      "display_name": "Python 3"
    },
    "language_info": {
      "name": "python"
    }
  },
  "cells": [
    {
      "cell_type": "markdown",
      "metadata": {
        "id": "view-in-github",
        "colab_type": "text"
      },
      "source": [
        "<a href=\"https://colab.research.google.com/github/BlitzenPrancer/Image-processing-using-Pillow/blob/main/Image_processing_using_Pillow.ipynb\" target=\"_parent\"><img src=\"https://colab.research.google.com/assets/colab-badge.svg\" alt=\"Open In Colab\"/></a>"
      ]
    },
    {
      "cell_type": "markdown",
      "metadata": {
        "id": "7Wwj8hwVZZCV"
      },
      "source": [
        "# Loading Image"
      ]
    },
    {
      "cell_type": "code",
      "metadata": {
        "id": "D6gyKJvCZdIs"
      },
      "source": [
        "image_x = \"/content/drive/MyDrive/dataset/img/x.png\"\n",
        "image_o = \"/content/drive/MyDrive/dataset/img/o.png\""
      ],
      "execution_count": 3,
      "outputs": []
    },
    {
      "cell_type": "code",
      "metadata": {
        "id": "m-nPz07wZw7k"
      },
      "source": [
        "from PIL import Image, ImageChops, ImageFilter\n",
        "from matplotlib import pyplot as plt\n",
        "\n",
        "#Creating a PIL Image objects\n",
        "x = Image.open(image_x)\n",
        "o = Image.open(image_o)"
      ],
      "execution_count": 5,
      "outputs": []
    }
  ]
}